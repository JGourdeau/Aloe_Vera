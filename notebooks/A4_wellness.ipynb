{
 "cells": [
  {
   "cell_type": "code",
   "execution_count": null,
   "metadata": {},
   "outputs": [],
   "source": [
    "import pandas as pd\n",
    "import plotnine as p9\n",
    "import datetime as dt\n",
    "import glob\n",
    "\n",
    "\n",
    "## repeated printouts\n",
    "from IPython.core.interactiveshell import InteractiveShell\n",
    "InteractiveShell.ast_node_interactivity = \"all\""
   ]
  },
  {
   "cell_type": "code",
   "execution_count": null,
   "metadata": {},
   "outputs": [],
   "source": [
    "# custom convert date to match the garmin reported data\n",
    "def convert_date(x):\n",
    "    dates = []\n",
    "    for d in x:\n",
    "        dates.append(datetime.strptime(d['date'], \"%b %d, %Y %I:%M:%S %p\"))\n",
    "    return dates\n",
    "\n",
    "# extracts daily stress\n",
    "def explode_daily_stress(x):\n",
    "    ad = dict(x)\n",
    "    al = ad['aggregatorList'][0]['averageStressLevel']\n",
    "    return al\n",
    "\n",
    "# extracts the awake stress score\n",
    "def explode_daily_awake_stress(x):\n",
    "    ad = dict(x)\n",
    "    al = ad['aggregatorList'][1]['averageStressLevel']\n",
    "    return al\n"
   ]
  },
  {
   "cell_type": "code",
   "execution_count": null,
   "metadata": {},
   "outputs": [],
   "source": [
    "# get the 2021 uds files\n",
    "uds_files = []\n",
    "uds_df = pd.DataFrame()\n",
    "for file in glob.glob(\"../data/f4617e72-eb4d-4f9d-8aec-8d965e6f651c_1/DI_CONNECT/DI-Connect-User/UDSFile*.json\"):\n",
    "    if '2021' in file: \n",
    "        temp_df = pd.read_json(file)\n",
    "        uds_df = uds_df.append(temp_df)\n",
    "\n",
    "uds_df.head(2)\n",
    "\n",
    "# quick manipulations\n",
    "uds_df['calendarDate'] = convert_date(uds_df['calendarDate'])\n",
    "is_22W = uds_df.calendarDate >= dt.datetime.strptime('2022-01-4', '%Y-%m-%d')\n",
    "uds_df = uds_df.loc[is_22W, :]\n",
    "uds_df['AVG_DAILY_STRESS_DERIVED'] = uds_df.allDayStress.apply(lambda x: explode_daily_stress(x))\n",
    "uds_df['AVG_AWAKE_STRESS_DERIVED'] = uds_df.allDayStress.apply(lambda x: explode_daily_awake_stress(x))\n",
    "\n",
    "uds_df.info()"
   ]
  },
  {
   "cell_type": "code",
   "execution_count": null,
   "metadata": {},
   "outputs": [],
   "source": [
    "uds_df['totalSteps'].describe()\n",
    "uds_df.AVG_DAILY_STRESS_DERIVED.describe()\n",
    "uds_df.restingHeartRate.describe()"
   ]
  },
  {
   "cell_type": "code",
   "execution_count": null,
   "metadata": {},
   "outputs": [],
   "source": [
    "gourdotron_theme = (p9.theme_classic()\n",
    "                   + p9.theme(axis_text_x = p9.element_text(angle=-45, color='#14a0ec', ha='left'), \n",
    "                           axis_text_y = p9.element_text(color='#14a0ec'))\n",
    "                    + p9.theme(panel_background = p9.element_rect(fill='#444444'), \n",
    "                           plot_background = p9.element_rect(fill = \"#444444\"), \n",
    "                           axis_title_x=p9.element_text(color='#14a0ec'), \n",
    "                           axis_title_y=p9.element_text(color='#14a0ec')))\n",
    "\n",
    "stress_long = (p9.ggplot(data=uds_df, mapping=p9.aes(x='calendarDate', y='AVG_DAILY_STRESS_DERIVED'))\n",
    "                + p9.geom_line(color='#14a0ec')\n",
    "                + p9.geom_area(fill=\"#F85621\", alpha=0.8)\n",
    "                + p9.geom_hline(mapping=p9.aes(yintercept=uds_df['AVG_DAILY_STRESS_DERIVED'].mean()), \n",
    "                                linetype='dashed', color='#14a0ec')\n",
    "                + p9.geom_point(color='#F85621', stat='identity', fill='#F85621')\n",
    "                + p9.labs(x='Calendar Date', y = 'Average Daily Stress')\n",
    "                + gourdotron_theme)\n",
    "\n",
    "stress_long"
   ]
  }
 ],
 "metadata": {
  "interpreter": {
   "hash": "aee8b7b246df8f9039afb4144a1f6fd8d2ca17a180786b69acc140d282b71a49"
  },
  "kernelspec": {
   "display_name": "Python 3.7.4 64-bit",
   "language": "python",
   "name": "python3"
  },
  "language_info": {
   "codemirror_mode": {
    "name": "ipython",
    "version": 3
   },
   "file_extension": ".py",
   "mimetype": "text/x-python",
   "name": "python",
   "nbconvert_exporter": "python",
   "pygments_lexer": "ipython3",
   "version": "3.7.4"
  },
  "orig_nbformat": 4
 },
 "nbformat": 4,
 "nbformat_minor": 2
}
