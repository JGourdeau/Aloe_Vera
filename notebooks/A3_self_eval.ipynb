{
 "cells": [
  {
   "cell_type": "code",
   "execution_count": null,
   "metadata": {},
   "outputs": [],
   "source": [
    "import pandas as pd\n",
    "import numpy as np \n",
    "import plotnine as p9\n",
    "import datetime as dt\n",
    "import glob\n",
    "\n",
    "## repeated printouts\n",
    "from IPython.core.interactiveshell import InteractiveShell\n",
    "InteractiveShell.ast_node_interactivity = \"all\""
   ]
  },
  {
   "cell_type": "code",
   "execution_count": null,
   "metadata": {},
   "outputs": [],
   "source": [
    "vera_log = pd.read_csv('../data/aloe_vera_log.csv')\n",
    "vera_log.head()\n",
    "vera_log.info()"
   ]
  },
  {
   "cell_type": "code",
   "execution_count": null,
   "metadata": {},
   "outputs": [],
   "source": [
    "vera_log.date = pd.to_datetime(vera_log.date)\n",
    "vera_log.info()\n",
    "vera_log.percieved_sleep_quality.describe()\n",
    "vera_log.percieved_stress_level.describe()\n",
    "vera_log.day_ranking.describe()"
   ]
  },
  {
   "cell_type": "code",
   "execution_count": null,
   "metadata": {},
   "outputs": [],
   "source": [
    "gourdotron_theme = (p9.theme_classic()\n",
    "                   + p9.theme(axis_text_x = p9.element_text(angle=-45, color='#14a0ec', hjust=1), \n",
    "                           axis_text_y = p9.element_text(color='#14a0ec'))\n",
    "                    + p9.theme(panel_background = p9.element_rect(fill='#444444'), \n",
    "                           plot_background = p9.element_rect(fill = \"#444444\"), \n",
    "                           axis_title_x=p9.element_text(color='#14a0ec'), \n",
    "                           axis_title_y=p9.element_text(color='#14a0ec')))"
   ]
  }
 ],
 "metadata": {
  "interpreter": {
   "hash": "aee8b7b246df8f9039afb4144a1f6fd8d2ca17a180786b69acc140d282b71a49"
  },
  "kernelspec": {
   "display_name": "Python 3.7.4 64-bit",
   "language": "python",
   "name": "python3"
  },
  "language_info": {
   "codemirror_mode": {
    "name": "ipython",
    "version": 3
   },
   "file_extension": ".py",
   "mimetype": "text/x-python",
   "name": "python",
   "nbconvert_exporter": "python",
   "pygments_lexer": "ipython3",
   "version": "3.7.4"
  },
  "orig_nbformat": 4
 },
 "nbformat": 4,
 "nbformat_minor": 2
}
